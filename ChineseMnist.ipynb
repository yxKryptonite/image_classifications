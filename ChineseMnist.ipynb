{
 "cells": [
  {
   "cell_type": "code",
   "execution_count": 1,
   "metadata": {},
   "outputs": [],
   "source": [
    "from random import shuffle\n",
    "from turtle import forward\n",
    "import torch\n",
    "import torchvision\n",
    "import torchvision.transforms as transforms\n",
    "\n",
    "# transform = transforms.Compose(\n",
    "#     [transforms.ToTensor(), transforms.Normalize((0.5, 0.5, 0.5), (0.5, 0.5, 0.5))]\n",
    "# )\n",
    "\n",
    "import torch.nn as nn\n",
    "import torch.nn.functional as F\n",
    "import torch.optim as optim\n",
    "import os\n",
    "from PIL import Image"
   ]
  },
  {
   "cell_type": "code",
   "execution_count": 2,
   "metadata": {},
   "outputs": [],
   "source": [
    "classes = ('零', '一', '二', '三', '四', '五', '六', '七', '八', '九', '十', '百', '千', '万', '亿')"
   ]
  },
  {
   "cell_type": "code",
   "execution_count": 3,
   "metadata": {},
   "outputs": [],
   "source": [
    "class Net(nn.Module):\n",
    "    \"\"\"a naive fully-connected net\"\"\"\n",
    "    def __init__(self):\n",
    "        super().__init__()\n",
    "        self.fc1 = nn.Linear(1 * 64 * 64, 300)\n",
    "        self.fc2 = nn.Linear(300, 80)\n",
    "        self.fc3 = nn.Linear(80, 15)\n",
    " \n",
    "    def forward(self, x):\n",
    "        x = x.reshape(x.size(0), -1)\n",
    "        x = self.fc1(x)  # [batch_size,300]\n",
    "        x = F.relu(x)  # [batch_size,300]\n",
    "        x = self.fc2(x)  # [batch_size,80]\n",
    "        x = F.relu(x)  # [batch_size,80]\n",
    "        x = self.fc3(x)  # [batch_size,15]\n",
    "        # return x\n",
    "        return F.log_softmax(x, dim=-1)\n",
    "\n",
    "net = Net()\n",
    "optimizer = optim.Adam(net.parameters(), lr=0.001)\n",
    "criterion = nn.CrossEntropyLoss()\n",
    "train_loss_list = []"
   ]
  },
  {
   "cell_type": "code",
   "execution_count": 4,
   "metadata": {},
   "outputs": [
    {
     "name": "stdout",
     "output_type": "stream",
     "text": [
      "Net(\n",
      "  (fc1): Linear(in_features=4096, out_features=300, bias=True)\n",
      "  (fc2): Linear(in_features=300, out_features=80, bias=True)\n",
      "  (fc3): Linear(in_features=80, out_features=15, bias=True)\n",
      ")\n"
     ]
    }
   ],
   "source": [
    "print(net)"
   ]
  },
  {
   "cell_type": "code",
   "execution_count": 5,
   "metadata": {},
   "outputs": [],
   "source": [
    "path_dir = 'archive/data/data'\n",
    "batch_size = 4\n",
    "num_epoches = 5"
   ]
  },
  {
   "cell_type": "code",
   "execution_count": 6,
   "metadata": {},
   "outputs": [],
   "source": [
    "from torch.utils.data import Dataset, DataLoader\n",
    "\n",
    "class myDataset(Dataset):\n",
    "    def __init__(self, path_dir, transform=None):\n",
    "        self.path_dir = path_dir\n",
    "        self.transform = transform\n",
    "        self.images = os.listdir(self.path_dir)\n",
    "\n",
    "    def __len__(self):\n",
    "        return len(self.images)\n",
    "\n",
    "    def __getitem__(self, index):\n",
    "        image_index = self.images[index]\n",
    "        img_path = os.path.join(self.path_dir, image_index)\n",
    "        img = Image.open(img_path)\n",
    "\n",
    "        label = img_path.split('/')[-1].split('.')[0].split('_')[-1]\n",
    "        label = int(label)\n",
    "        label = label - 1\n",
    "\n",
    "        img = self.transform(img)\n",
    "        return img, label\n",
    "\n",
    "train_set = myDataset(path_dir, transform=torchvision.transforms.ToTensor())\n",
    "train_loader = DataLoader(train_set, batch_size, shuffle=True)"
   ]
  },
  {
   "cell_type": "code",
   "execution_count": 7,
   "metadata": {},
   "outputs": [
    {
     "data": {
      "image/png": "[encoded data removed]",
      "text/plain": [
       "<Figure size 432x288 with 1 Axes>"
      ]
     },
     "metadata": {
      "needs_background": "light"
     },
     "output_type": "display_data"
    },
    {
     "name": "stdout",
     "output_type": "stream",
     "text": [
      "五     万     四     千    \n"
     ]
    }
   ],
   "source": [
    "import matplotlib.pyplot as plt\n",
    "import numpy as np\n",
    "\n",
    "# functions to show an image\n",
    "\n",
    "\n",
    "def imshow(img):\n",
    "    img = img / 2 + 0.5     # unnormalize\n",
    "    npimg = img.numpy()\n",
    "    plt.imshow(np.transpose(npimg, (1, 2, 0)))\n",
    "    plt.show()\n",
    "\n",
    "\n",
    "# get some random training images\n",
    "dataiter = iter(train_loader)\n",
    "images, labels = dataiter.next()\n",
    "\n",
    "# show images\n",
    "imshow(torchvision.utils.make_grid(images))\n",
    "# print labels\n",
    "print(' '.join(f'{classes[labels[j]]:5s}' for j in range(batch_size)))"
   ]
  },
  {
   "cell_type": "code",
   "execution_count": 8,
   "metadata": {},
   "outputs": [
    {
     "name": "stdout",
     "output_type": "stream",
     "text": [
      "Train Epoch: 1 [468/15000 (3%)]\tLoss: 2.525967\tAccuracy: 11.44 %\n",
      "Train Epoch: 1 [936/15000 (6%)]\tLoss: 2.143916\tAccuracy: 17.23 %\n",
      "Train Epoch: 1 [1404/15000 (9%)]\tLoss: 2.083465\tAccuracy: 22.59 %\n",
      "Train Epoch: 1 [1872/15000 (12%)]\tLoss: 2.518023\tAccuracy: 25.85 %\n",
      "Train Epoch: 1 [2340/15000 (16%)]\tLoss: 0.613072\tAccuracy: 29.91 %\n",
      "Train Epoch: 1 [2808/15000 (19%)]\tLoss: 1.249072\tAccuracy: 33.53 %\n",
      "Train Epoch: 1 [3276/15000 (22%)]\tLoss: 2.002075\tAccuracy: 35.67 %\n",
      "Train Epoch: 1 [3744/15000 (25%)]\tLoss: 1.034251\tAccuracy: 37.35 %\n",
      "Train Epoch: 1 [4212/15000 (28%)]\tLoss: 1.542152\tAccuracy: 39.52 %\n",
      "Train Epoch: 1 [4680/15000 (31%)]\tLoss: 0.837960\tAccuracy: 41.25 %\n",
      "Train Epoch: 1 [5148/15000 (34%)]\tLoss: 1.111407\tAccuracy: 43.09 %\n",
      "Train Epoch: 1 [5616/15000 (37%)]\tLoss: 1.602927\tAccuracy: 44.57 %\n",
      "Train Epoch: 1 [6084/15000 (41%)]\tLoss: 1.392550\tAccuracy: 45.91 %\n",
      "Train Epoch: 1 [6552/15000 (44%)]\tLoss: 1.399337\tAccuracy: 47.07 %\n",
      "Train Epoch: 1 [7020/15000 (47%)]\tLoss: 1.447691\tAccuracy: 48.55 %\n",
      "Train Epoch: 1 [7488/15000 (50%)]\tLoss: 0.424540\tAccuracy: 49.37 %\n",
      "Train Epoch: 1 [7956/15000 (53%)]\tLoss: 1.065175\tAccuracy: 50.44 %\n",
      "Train Epoch: 1 [8424/15000 (56%)]\tLoss: 0.190702\tAccuracy: 51.55 %\n",
      "Train Epoch: 1 [8892/15000 (59%)]\tLoss: 0.178746\tAccuracy: 52.36 %\n",
      "Train Epoch: 1 [9360/15000 (62%)]\tLoss: 0.798505\tAccuracy: 53.27 %\n",
      "Train Epoch: 1 [9828/15000 (66%)]\tLoss: 1.163451\tAccuracy: 53.99 %\n",
      "Train Epoch: 1 [10296/15000 (69%)]\tLoss: 1.745622\tAccuracy: 54.80 %\n",
      "Train Epoch: 1 [10764/15000 (72%)]\tLoss: 0.597887\tAccuracy: 55.34 %\n",
      "Train Epoch: 1 [11232/15000 (75%)]\tLoss: 0.805951\tAccuracy: 56.10 %\n",
      "Train Epoch: 1 [11700/15000 (78%)]\tLoss: 0.114692\tAccuracy: 56.78 %\n",
      "Train Epoch: 1 [12168/15000 (81%)]\tLoss: 0.305608\tAccuracy: 57.45 %\n",
      "Train Epoch: 1 [12636/15000 (84%)]\tLoss: 0.460297\tAccuracy: 58.02 %\n",
      "Train Epoch: 1 [13104/15000 (87%)]\tLoss: 0.975329\tAccuracy: 58.64 %\n",
      "Train Epoch: 1 [13572/15000 (90%)]\tLoss: 0.322823\tAccuracy: 59.19 %\n",
      "Train Epoch: 1 [14040/15000 (94%)]\tLoss: 0.354799\tAccuracy: 59.80 %\n",
      "Train Epoch: 1 [14508/15000 (97%)]\tLoss: 0.822784\tAccuracy: 60.27 %\n",
      "Train Epoch: 1 [14976/15000 (100%)]\tLoss: 0.868522\tAccuracy: 60.80 %\n",
      "Train Epoch: 2 [468/15000 (3%)]\tLoss: 0.189809\tAccuracy: 83.69 %\n",
      "Train Epoch: 2 [936/15000 (6%)]\tLoss: 0.682583\tAccuracy: 83.19 %\n",
      "Train Epoch: 2 [1404/15000 (9%)]\tLoss: 0.958938\tAccuracy: 84.23 %\n",
      "Train Epoch: 2 [1872/15000 (12%)]\tLoss: 1.441496\tAccuracy: 84.12 %\n",
      "Train Epoch: 2 [2340/15000 (16%)]\tLoss: 0.266765\tAccuracy: 84.43 %\n",
      "Train Epoch: 2 [2808/15000 (19%)]\tLoss: 0.059131\tAccuracy: 84.46 %\n",
      "Train Epoch: 2 [3276/15000 (22%)]\tLoss: 0.479709\tAccuracy: 83.93 %\n",
      "Train Epoch: 2 [3744/15000 (25%)]\tLoss: 0.157035\tAccuracy: 84.07 %\n",
      "Train Epoch: 2 [4212/15000 (28%)]\tLoss: 0.695020\tAccuracy: 84.06 %\n",
      "Train Epoch: 2 [4680/15000 (31%)]\tLoss: 0.338320\tAccuracy: 84.01 %\n",
      "Train Epoch: 2 [5148/15000 (34%)]\tLoss: 0.165387\tAccuracy: 84.03 %\n",
      "Train Epoch: 2 [5616/15000 (37%)]\tLoss: 0.149476\tAccuracy: 83.93 %\n",
      "Train Epoch: 2 [6084/15000 (41%)]\tLoss: 0.131946\tAccuracy: 84.25 %\n",
      "Train Epoch: 2 [6552/15000 (44%)]\tLoss: 0.411317\tAccuracy: 84.17 %\n",
      "Train Epoch: 2 [7020/15000 (47%)]\tLoss: 4.406136\tAccuracy: 84.24 %\n",
      "Train Epoch: 2 [7488/15000 (50%)]\tLoss: 0.642722\tAccuracy: 84.10 %\n",
      "Train Epoch: 2 [7956/15000 (53%)]\tLoss: 0.515432\tAccuracy: 84.02 %\n",
      "Train Epoch: 2 [8424/15000 (56%)]\tLoss: 1.403124\tAccuracy: 83.90 %\n",
      "Train Epoch: 2 [8892/15000 (59%)]\tLoss: 0.249507\tAccuracy: 84.00 %\n",
      "Train Epoch: 2 [9360/15000 (62%)]\tLoss: 0.054499\tAccuracy: 84.07 %\n",
      "Train Epoch: 2 [9828/15000 (66%)]\tLoss: 0.316073\tAccuracy: 84.17 %\n",
      "Train Epoch: 2 [10296/15000 (69%)]\tLoss: 0.203822\tAccuracy: 84.26 %\n",
      "Train Epoch: 2 [10764/15000 (72%)]\tLoss: 0.296102\tAccuracy: 84.31 %\n",
      "Train Epoch: 2 [11232/15000 (75%)]\tLoss: 0.052353\tAccuracy: 84.39 %\n",
      "Train Epoch: 2 [11700/15000 (78%)]\tLoss: 0.588510\tAccuracy: 84.42 %\n",
      "Train Epoch: 2 [12168/15000 (81%)]\tLoss: 0.727773\tAccuracy: 84.49 %\n",
      "Train Epoch: 2 [12636/15000 (84%)]\tLoss: 0.119398\tAccuracy: 84.53 %\n",
      "Train Epoch: 2 [13104/15000 (87%)]\tLoss: 1.146073\tAccuracy: 84.38 %\n",
      "Train Epoch: 2 [13572/15000 (90%)]\tLoss: 0.094481\tAccuracy: 84.34 %\n",
      "Train Epoch: 2 [14040/15000 (94%)]\tLoss: 0.136670\tAccuracy: 84.44 %\n",
      "Train Epoch: 2 [14508/15000 (97%)]\tLoss: 0.074946\tAccuracy: 84.39 %\n",
      "Train Epoch: 2 [14976/15000 (100%)]\tLoss: 1.005587\tAccuracy: 84.51 %\n",
      "Train Epoch: 3 [468/15000 (3%)]\tLoss: 0.266386\tAccuracy: 92.37 %\n",
      "Train Epoch: 3 [936/15000 (6%)]\tLoss: 0.609540\tAccuracy: 92.98 %\n",
      "Train Epoch: 3 [1404/15000 (9%)]\tLoss: 0.063831\tAccuracy: 92.83 %\n",
      "Train Epoch: 3 [1872/15000 (12%)]\tLoss: 0.126823\tAccuracy: 92.70 %\n",
      "Train Epoch: 3 [2340/15000 (16%)]\tLoss: 0.244513\tAccuracy: 92.58 %\n",
      "Train Epoch: 3 [2808/15000 (19%)]\tLoss: 0.410546\tAccuracy: 92.46 %\n",
      "Train Epoch: 3 [3276/15000 (22%)]\tLoss: 0.022758\tAccuracy: 92.38 %\n",
      "Train Epoch: 3 [3744/15000 (25%)]\tLoss: 0.011705\tAccuracy: 92.53 %\n",
      "Train Epoch: 3 [4212/15000 (28%)]\tLoss: 0.112512\tAccuracy: 92.58 %\n",
      "Train Epoch: 3 [4680/15000 (31%)]\tLoss: 0.009661\tAccuracy: 92.44 %\n",
      "Train Epoch: 3 [5148/15000 (34%)]\tLoss: 0.033869\tAccuracy: 92.37 %\n",
      "Train Epoch: 3 [5616/15000 (37%)]\tLoss: 0.007236\tAccuracy: 92.38 %\n",
      "Train Epoch: 3 [6084/15000 (41%)]\tLoss: 0.035441\tAccuracy: 92.30 %\n",
      "Train Epoch: 3 [6552/15000 (44%)]\tLoss: 0.056175\tAccuracy: 92.22 %\n",
      "Train Epoch: 3 [7020/15000 (47%)]\tLoss: 0.161087\tAccuracy: 92.18 %\n",
      "Train Epoch: 3 [7488/15000 (50%)]\tLoss: 0.072440\tAccuracy: 92.22 %\n",
      "Train Epoch: 3 [7956/15000 (53%)]\tLoss: 0.372921\tAccuracy: 92.12 %\n",
      "Train Epoch: 3 [8424/15000 (56%)]\tLoss: 0.078950\tAccuracy: 91.86 %\n",
      "Train Epoch: 3 [8892/15000 (59%)]\tLoss: 0.431886\tAccuracy: 91.73 %\n",
      "Train Epoch: 3 [9360/15000 (62%)]\tLoss: 0.377368\tAccuracy: 91.68 %\n",
      "Train Epoch: 3 [9828/15000 (66%)]\tLoss: 0.144359\tAccuracy: 91.56 %\n",
      "Train Epoch: 3 [10296/15000 (69%)]\tLoss: 0.108247\tAccuracy: 91.39 %\n",
      "Train Epoch: 3 [10764/15000 (72%)]\tLoss: 0.291232\tAccuracy: 91.35 %\n",
      "Train Epoch: 3 [11232/15000 (75%)]\tLoss: 0.086351\tAccuracy: 91.34 %\n",
      "Train Epoch: 3 [11700/15000 (78%)]\tLoss: 0.583267\tAccuracy: 91.23 %\n",
      "Train Epoch: 3 [12168/15000 (81%)]\tLoss: 0.077467\tAccuracy: 91.14 %\n",
      "Train Epoch: 3 [12636/15000 (84%)]\tLoss: 1.705209\tAccuracy: 91.15 %\n",
      "Train Epoch: 3 [13104/15000 (87%)]\tLoss: 0.063839\tAccuracy: 91.14 %\n",
      "Train Epoch: 3 [13572/15000 (90%)]\tLoss: 1.303261\tAccuracy: 91.05 %\n",
      "Train Epoch: 3 [14040/15000 (94%)]\tLoss: 0.813948\tAccuracy: 91.08 %\n",
      "Train Epoch: 3 [14508/15000 (97%)]\tLoss: 0.541422\tAccuracy: 91.08 %\n",
      "Train Epoch: 3 [14976/15000 (100%)]\tLoss: 0.924044\tAccuracy: 91.10 %\n",
      "Train Epoch: 4 [468/15000 (3%)]\tLoss: 0.036220\tAccuracy: 94.70 %\n",
      "Train Epoch: 4 [936/15000 (6%)]\tLoss: 0.184529\tAccuracy: 95.21 %\n",
      "Train Epoch: 4 [1404/15000 (9%)]\tLoss: 0.014692\tAccuracy: 95.53 %\n",
      "Train Epoch: 4 [1872/15000 (12%)]\tLoss: 0.745078\tAccuracy: 95.52 %\n",
      "Train Epoch: 4 [2340/15000 (16%)]\tLoss: 0.317152\tAccuracy: 95.48 %\n",
      "Train Epoch: 4 [2808/15000 (19%)]\tLoss: 0.077000\tAccuracy: 95.41 %\n",
      "Train Epoch: 4 [3276/15000 (22%)]\tLoss: 0.310975\tAccuracy: 95.30 %\n",
      "Train Epoch: 4 [3744/15000 (25%)]\tLoss: 0.040343\tAccuracy: 95.22 %\n",
      "Train Epoch: 4 [4212/15000 (28%)]\tLoss: 0.002262\tAccuracy: 95.09 %\n",
      "Train Epoch: 4 [4680/15000 (31%)]\tLoss: 0.005880\tAccuracy: 95.15 %\n",
      "Train Epoch: 4 [5148/15000 (34%)]\tLoss: 0.214927\tAccuracy: 95.28 %\n",
      "Train Epoch: 4 [5616/15000 (37%)]\tLoss: 0.045123\tAccuracy: 95.14 %\n",
      "Train Epoch: 4 [6084/15000 (41%)]\tLoss: 0.027973\tAccuracy: 95.15 %\n",
      "Train Epoch: 4 [6552/15000 (44%)]\tLoss: 0.001228\tAccuracy: 95.06 %\n",
      "Train Epoch: 4 [7020/15000 (47%)]\tLoss: 0.011734\tAccuracy: 94.97 %\n",
      "Train Epoch: 4 [7488/15000 (50%)]\tLoss: 0.000017\tAccuracy: 95.03 %\n",
      "Train Epoch: 4 [7956/15000 (53%)]\tLoss: 0.104746\tAccuracy: 94.90 %\n",
      "Train Epoch: 4 [8424/15000 (56%)]\tLoss: 0.006272\tAccuracy: 94.83 %\n",
      "Train Epoch: 4 [8892/15000 (59%)]\tLoss: 0.486853\tAccuracy: 94.77 %\n",
      "Train Epoch: 4 [9360/15000 (62%)]\tLoss: 0.000870\tAccuracy: 94.75 %\n",
      "Train Epoch: 4 [9828/15000 (66%)]\tLoss: 0.330720\tAccuracy: 94.73 %\n",
      "Train Epoch: 4 [10296/15000 (69%)]\tLoss: 0.038880\tAccuracy: 94.63 %\n",
      "Train Epoch: 4 [10764/15000 (72%)]\tLoss: 0.015761\tAccuracy: 94.69 %\n",
      "Train Epoch: 4 [11232/15000 (75%)]\tLoss: 0.009329\tAccuracy: 94.62 %\n",
      "Train Epoch: 4 [11700/15000 (78%)]\tLoss: 0.034315\tAccuracy: 94.53 %\n",
      "Train Epoch: 4 [12168/15000 (81%)]\tLoss: 0.085260\tAccuracy: 94.58 %\n",
      "Train Epoch: 4 [12636/15000 (84%)]\tLoss: 0.037305\tAccuracy: 94.62 %\n",
      "Train Epoch: 4 [13104/15000 (87%)]\tLoss: 0.034740\tAccuracy: 94.61 %\n",
      "Train Epoch: 4 [13572/15000 (90%)]\tLoss: 0.036694\tAccuracy: 94.56 %\n",
      "Train Epoch: 4 [14040/15000 (94%)]\tLoss: 0.006086\tAccuracy: 94.60 %\n",
      "Train Epoch: 4 [14508/15000 (97%)]\tLoss: 0.000035\tAccuracy: 94.61 %\n",
      "Train Epoch: 4 [14976/15000 (100%)]\tLoss: 0.002578\tAccuracy: 94.62 %\n",
      "Train Epoch: 5 [468/15000 (3%)]\tLoss: 0.135252\tAccuracy: 98.09 %\n",
      "Train Epoch: 5 [936/15000 (6%)]\tLoss: 0.016224\tAccuracy: 97.77 %\n",
      "Train Epoch: 5 [1404/15000 (9%)]\tLoss: 0.005702\tAccuracy: 97.59 %\n",
      "Train Epoch: 5 [1872/15000 (12%)]\tLoss: 0.000797\tAccuracy: 97.71 %\n",
      "Train Epoch: 5 [2340/15000 (16%)]\tLoss: 0.472846\tAccuracy: 97.53 %\n",
      "Train Epoch: 5 [2808/15000 (19%)]\tLoss: 0.000136\tAccuracy: 97.26 %\n",
      "Train Epoch: 5 [3276/15000 (22%)]\tLoss: 0.286677\tAccuracy: 97.29 %\n",
      "Train Epoch: 5 [3744/15000 (25%)]\tLoss: 0.017515\tAccuracy: 97.47 %\n",
      "Train Epoch: 5 [4212/15000 (28%)]\tLoss: 0.771498\tAccuracy: 97.30 %\n",
      "Train Epoch: 5 [4680/15000 (31%)]\tLoss: 0.000168\tAccuracy: 97.31 %\n",
      "Train Epoch: 5 [5148/15000 (34%)]\tLoss: 0.001652\tAccuracy: 97.24 %\n",
      "Train Epoch: 5 [5616/15000 (37%)]\tLoss: 0.126557\tAccuracy: 97.03 %\n",
      "Train Epoch: 5 [6084/15000 (41%)]\tLoss: 0.062545\tAccuracy: 96.90 %\n",
      "Train Epoch: 5 [6552/15000 (44%)]\tLoss: 0.001832\tAccuracy: 96.95 %\n",
      "Train Epoch: 5 [7020/15000 (47%)]\tLoss: 0.279744\tAccuracy: 96.83 %\n",
      "Train Epoch: 5 [7488/15000 (50%)]\tLoss: 0.227041\tAccuracy: 96.80 %\n",
      "Train Epoch: 5 [7956/15000 (53%)]\tLoss: 0.002389\tAccuracy: 96.77 %\n",
      "Train Epoch: 5 [8424/15000 (56%)]\tLoss: 0.003989\tAccuracy: 96.82 %\n",
      "Train Epoch: 5 [8892/15000 (59%)]\tLoss: 0.000305\tAccuracy: 96.72 %\n",
      "Train Epoch: 5 [9360/15000 (62%)]\tLoss: 0.034442\tAccuracy: 96.65 %\n",
      "Train Epoch: 5 [9828/15000 (66%)]\tLoss: 0.001483\tAccuracy: 96.57 %\n",
      "Train Epoch: 5 [10296/15000 (69%)]\tLoss: 0.054656\tAccuracy: 96.54 %\n",
      "Train Epoch: 5 [10764/15000 (72%)]\tLoss: 0.046211\tAccuracy: 96.48 %\n",
      "Train Epoch: 5 [11232/15000 (75%)]\tLoss: 0.034695\tAccuracy: 96.35 %\n",
      "Train Epoch: 5 [11700/15000 (78%)]\tLoss: 0.040077\tAccuracy: 96.36 %\n",
      "Train Epoch: 5 [12168/15000 (81%)]\tLoss: 0.009487\tAccuracy: 96.31 %\n",
      "Train Epoch: 5 [12636/15000 (84%)]\tLoss: 0.077711\tAccuracy: 96.30 %\n",
      "Train Epoch: 5 [13104/15000 (87%)]\tLoss: 0.023116\tAccuracy: 96.32 %\n",
      "Train Epoch: 5 [13572/15000 (90%)]\tLoss: 0.053918\tAccuracy: 96.34 %\n",
      "Train Epoch: 5 [14040/15000 (94%)]\tLoss: 0.073483\tAccuracy: 96.33 %\n",
      "Train Epoch: 5 [14508/15000 (97%)]\tLoss: 0.005802\tAccuracy: 96.34 %\n",
      "Train Epoch: 5 [14976/15000 (100%)]\tLoss: 0.059280\tAccuracy: 96.30 %\n",
      "Finish Training.\n"
     ]
    }
   ],
   "source": [
    "# 开始训练！\n",
    "for epoch in range(num_epoches):\n",
    "    correct, total = 0, 0\n",
    "    for i, (data, target) in enumerate(train_loader):\n",
    "\n",
    "        optimizer.zero_grad()\n",
    "        outputs = net(data)\n",
    "        loss = criterion(outputs, target)\n",
    "        loss.backward()\n",
    "        optimizer.step()\n",
    "\n",
    "        _, predicted = torch.max(outputs.data, 1)\n",
    "        total += target.size(0)\n",
    "        correct += (predicted == target).sum().item()\n",
    "        acc = correct / total\n",
    "        if i % 117 == 0 and i != 0:    # print every 2000 mini-batches\n",
    "            print('Train Epoch: {} [{}/{} ({:.0f}%)]\\tLoss: {:.6f}\\tAccuracy: {:.2f} %'\n",
    "                .format(epoch+1, (i)* batch_size, len(train_set), 100. * (i) / len(train_loader), loss.item(), 100 * acc))\n",
    "\n",
    "        train_loss_list.append(loss.item())\n",
    "\n",
    "print(\"Finish Training.\")"
   ]
  },
  {
   "cell_type": "code",
   "execution_count": 9,
   "metadata": {},
   "outputs": [
    {
     "data": {
      "image/png": "[encoded data removed]",
      "text/plain": [
       "<Figure size 432x288 with 1 Axes>"
      ]
     },
     "metadata": {
      "needs_background": "light"
     },
     "output_type": "display_data"
    }
   ],
   "source": [
    "# 绘制函数\n",
    "plt.plot(train_loss_list)\n",
    "plt.title('Training loss Curve')\n",
    "plt.ylabel('Loss')\n",
    "plt.xlabel('epochs')\n",
    "plt.show()\n"
   ]
  },
  {
   "cell_type": "code",
   "execution_count": 10,
   "metadata": {},
   "outputs": [],
   "source": [
    "# save the model\n",
    "\n",
    "torch.save(net.state_dict(), 'my_handwrite_recognize_model.ckpt')"
   ]
  },
  {
   "cell_type": "code",
   "execution_count": 11,
   "metadata": {},
   "outputs": [],
   "source": [
    "test_set = myDataset(path_dir, transform=torchvision.transforms.ToTensor())\n",
    "test_loader = DataLoader(test_set, batch_size, shuffle=True)"
   ]
  },
  {
   "cell_type": "code",
   "execution_count": 12,
   "metadata": {},
   "outputs": [
    {
     "data": {
      "image/png": "[encoded data removed]",
      "text/plain": [
       "<Figure size 432x288 with 1 Axes>"
      ]
     },
     "metadata": {
      "needs_background": "light"
     },
     "output_type": "display_data"
    },
    {
     "name": "stdout",
     "output_type": "stream",
     "text": [
      "GroundTruth:  四     亿     四     十    \n",
      "Predicted:  四     亿     四     十    \n"
     ]
    }
   ],
   "source": [
    "dataiter = iter(test_loader)\n",
    "images, labels = dataiter.next()\n",
    "\n",
    "# print images\n",
    "imshow(torchvision.utils.make_grid(images))\n",
    "print('GroundTruth: ', ' '.join(f'{classes[labels[j]]:5s}' for j in range(4)))\n",
    "# 开始预测\n",
    "outputs = net(images)\n",
    "_, predicted = torch.max(outputs, 1)\n",
    "\n",
    "print('Predicted: ', ' '.join(f'{classes[predicted[j]]:5s}'\n",
    "                              for j in range(4)))"
   ]
  },
  {
   "cell_type": "code",
   "execution_count": 13,
   "metadata": {},
   "outputs": [
    {
     "name": "stdout",
     "output_type": "stream",
     "text": [
      "Accuracy of the network on the 10000 test images: 97 %\n"
     ]
    }
   ],
   "source": [
    "correct = 0\n",
    "total = 0\n",
    "# since we're not training, we don't need to calculate the gradients for our outputs\n",
    "with torch.no_grad():\n",
    "    for data, target in test_loader:\n",
    "        # calculate outputs by running images through the network\n",
    "        outputs = net(data)\n",
    "        # the class with the highest energy is what we choose as prediction\n",
    "        _, predicted = torch.max(outputs.data, 1)\n",
    "        total += target.size(0)\n",
    "        correct += (predicted == target).sum().item()\n",
    "\n",
    "print(f'Accuracy of the network on the 10000 test images: {100 * correct // total} %')"
   ]
  },
  {
   "cell_type": "code",
   "execution_count": 14,
   "metadata": {},
   "outputs": [
    {
     "name": "stdout",
     "output_type": "stream",
     "text": [
      "  label: tensor([ 0,  7, 14, 14])\n",
      "predict: tensor([ 0,  7, 14, 14])\n"
     ]
    }
   ],
   "source": [
    "# 随机获取部分训练数据\n",
    "dataiter = iter(test_loader)\n",
    "data, target = dataiter.next()\n",
    "output = net(data)\n",
    "_, predicted = torch.max(output.data, 1)\n",
    "# 打印标签、预测\n",
    "print('  label:', target)\n",
    "print('predict:', predicted)"
   ]
  }
 ],
 "metadata": {
  "interpreter": {
   "hash": "aee8b7b246df8f9039afb4144a1f6fd8d2ca17a180786b69acc140d282b71a49"
  },
  "kernelspec": {
   "display_name": "Python 3.9.6 64-bit",
   "language": "python",
   "name": "python3"
  },
  "language_info": {
   "codemirror_mode": {
    "name": "ipython",
    "version": 3
   },
   "file_extension": ".py",
   "mimetype": "text/x-python",
   "name": "python",
   "nbconvert_exporter": "python",
   "pygments_lexer": "ipython3",
   "version": "3.9.6"
  },
  "orig_nbformat": 4
 },
 "nbformat": 4,
 "nbformat_minor": 2
}
